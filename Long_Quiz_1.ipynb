{
  "nbformat": 4,
  "nbformat_minor": 0,
  "metadata": {
    "colab": {
      "provenance": [],
      "authorship_tag": "ABX9TyNgqercKlg0HIS1TPtU9dGV",
      "include_colab_link": true
    },
    "kernelspec": {
      "name": "python3",
      "display_name": "Python 3"
    },
    "language_info": {
      "name": "python"
    }
  },
  "cells": [
    {
      "cell_type": "markdown",
      "metadata": {
        "id": "view-in-github",
        "colab_type": "text"
      },
      "source": [
        "<a href=\"https://colab.research.google.com/github/Neilvaldrez/58013-LinearAlgebra/blob/main/Long_Quiz_1.ipynb\" target=\"_parent\"><img src=\"https://colab.research.google.com/assets/colab-badge.svg\" alt=\"Open In Colab\"/></a>"
      ]
    },
    {
      "cell_type": "code",
      "source": [
        "import numpy as np\n",
        "\n",
        "# Define the matrices A, B, C, and D\n",
        "A = np.array([[1, 2, 3],\n",
        "              [4, 5, 6]])\n",
        "\n",
        "B = np.array([[1, 2],\n",
        "              [3, 4]])\n",
        "\n",
        "C = np.array([[1, 2, 3],\n",
        "              [4, 5, 6],\n",
        "              [5, 6, 7]])\n",
        "\n",
        "D = np.array([[1, 2],\n",
        "              [3, 4]])\n",
        "\n",
        "try:\n",
        "    result_a = np.dot(A, B)\n",
        "except ValueError:\n",
        "    result_a = \"Matrix multiplication is not defined for matrices A and B.\"\n",
        "\n",
        "result_b = D + D\n",
        "\n",
        "result_c = 2 * C\n",
        "\n",
        "print(\"a. AB =\", result_a)\n",
        "\n",
        "print(\"\\nb. D + D =\")\n",
        "print(result_b)\n",
        "\n",
        "print(\"\\nc. 2C =\")\n",
        "print(result_c)"
      ],
      "metadata": {
        "colab": {
          "base_uri": "https://localhost:8080/"
        },
        "id": "tFPT1FzQhp6j",
        "outputId": "27c8d23a-36c1-4946-a5d1-2a5179168f18"
      },
      "execution_count": 4,
      "outputs": [
        {
          "output_type": "stream",
          "name": "stdout",
          "text": [
            "a. AB = Matrix multiplication is not defined for matrices A and B.\n",
            "\n",
            "b. D + D =\n",
            "[[2 4]\n",
            " [6 8]]\n",
            "\n",
            "c. 2C =\n",
            "[[ 2  4  6]\n",
            " [ 8 10 12]\n",
            " [10 12 14]]\n"
          ]
        }
      ]
    },
    {
      "cell_type": "code",
      "source": [
        "import numpy as np\n",
        "\n",
        "A = np.array([2, 7, 4])\n",
        "B = np.array([3, 9, 8])\n",
        "\n",
        "CrossP = np.cross(A, B)\n",
        "\n",
        "print(\"Cross product of A and B:\")\n",
        "print(CrossP)"
      ],
      "metadata": {
        "colab": {
          "base_uri": "https://localhost:8080/"
        },
        "id": "KpAcjY7oiWtF",
        "outputId": "1fcb3bae-518e-4659-eb52-f0b2c612bbf3"
      },
      "execution_count": 6,
      "outputs": [
        {
          "output_type": "stream",
          "name": "stdout",
          "text": [
            "Cross product of A and B:\n",
            "[20 -4 -3]\n"
          ]
        }
      ]
    }
  ]
}