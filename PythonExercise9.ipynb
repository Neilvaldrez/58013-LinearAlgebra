{
  "nbformat": 4,
  "nbformat_minor": 0,
  "metadata": {
    "colab": {
      "provenance": [],
      "authorship_tag": "ABX9TyM9Y9VUb1g3fPkvAGesGSts",
      "include_colab_link": true
    },
    "kernelspec": {
      "name": "python3",
      "display_name": "Python 3"
    },
    "language_info": {
      "name": "python"
    }
  },
  "cells": [
    {
      "cell_type": "markdown",
      "metadata": {
        "id": "view-in-github",
        "colab_type": "text"
      },
      "source": [
        "<a href=\"https://colab.research.google.com/github/Neilvaldrez/58013-LinearAlgebra/blob/main/PythonExercise9.ipynb\" target=\"_parent\"><img src=\"https://colab.research.google.com/assets/colab-badge.svg\" alt=\"Open In Colab\"/></a>"
      ]
    },
    {
      "cell_type": "code",
      "source": [
        "import numpy as np\n",
        "\n",
        "C = np.array([\n",
        "    [6, 3, 7],\n",
        "    [6, 5, 3],\n",
        "    [4, 9, 8]\n",
        "])\n",
        "\n",
        "D = np.array([\n",
        "    [2, 8, 1],\n",
        "    [5, 7, 6],\n",
        "    [9, 4, 2]\n",
        "])\n",
        "\n",
        "result_CD = np.dot(C, D)\n",
        "\n",
        "result_DC = np.dot(D, C)\n",
        "\n",
        "commutative_property = np.array_equal(result_CD, result_DC)\n",
        "\n",
        "print(\"Matrix C * D:\")\n",
        "print(result_CD)\n",
        "print(\"Matrix D * C:\")\n",
        "print(result_DC)\n",
        "print(\"Commutative Property:\", commutative_property)\n"
      ],
      "metadata": {
        "colab": {
          "base_uri": "https://localhost:8080/"
        },
        "id": "csVhg_Y_ENf9",
        "outputId": "7a478533-2d26-4bc9-bb4a-e441a880bfc8"
      },
      "execution_count": 17,
      "outputs": [
        {
          "output_type": "stream",
          "name": "stdout",
          "text": [
            "Matrix C * D:\n",
            "[[ 90  97  38]\n",
            " [ 64  95  42]\n",
            " [125 127  74]]\n",
            "Matrix D * C:\n",
            "[[ 64  55  46]\n",
            " [ 96 104 104]\n",
            " [ 86  65  91]]\n",
            "Commutative Property: False\n"
          ]
        }
      ]
    },
    {
      "cell_type": "code",
      "source": [
        "import numpy as np\n",
        "\n",
        "C = np.array([\n",
        "    [6, 3, 7],\n",
        "    [6, 5, 3],\n",
        "    [4, 9, 8]\n",
        "])\n",
        "\n",
        "A = np.array([\n",
        "    [2, 1, 3],\n",
        "    [5, 2, 4],\n",
        "    [7, 2, 1]\n",
        "])\n",
        "\n",
        "B = np.array([\n",
        "    [9, 2, 6],\n",
        "    [1, 7, 5],\n",
        "    [3, 8, 2]\n",
        "])\n",
        "\n",
        "result_AB_C = np.dot(np.dot(A, B), C)\n",
        "\n",
        "result_A_BC = np.dot(A, np.dot(B, C))\n",
        "\n",
        "associative_property = np.array_equal(result_AB_C, result_A_BC)\n",
        "\n",
        "print(\"Matrix (A * B) * C:\")\n",
        "print(result_AB_C)\n",
        "print(\"Matrix A * (B * C):\")\n",
        "print(result_A_BC)\n",
        "print(\"Associative Property:\", associative_property)\n"
      ],
      "metadata": {
        "colab": {
          "base_uri": "https://localhost:8080/"
        },
        "id": "rk0n6oFtEVyz",
        "outputId": "d14b15e4-8d7c-40f0-eceb-dc77156a3d98"
      },
      "execution_count": 18,
      "outputs": [
        {
          "output_type": "stream",
          "name": "stdout",
          "text": [
            "Matrix (A * B) * C:\n",
            "[[ 470  466  485]\n",
            " [ 882  889  965]\n",
            " [ 840  870 1016]]\n",
            "Matrix A * (B * C):\n",
            "[[ 470  466  485]\n",
            " [ 882  889  965]\n",
            " [ 840  870 1016]]\n",
            "Associative Property: True\n"
          ]
        }
      ]
    }
  ]
}