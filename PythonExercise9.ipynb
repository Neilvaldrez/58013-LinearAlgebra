{
  "nbformat": 4,
  "nbformat_minor": 0,
  "metadata": {
    "colab": {
      "provenance": [],
      "authorship_tag": "ABX9TyMsU5VP3AsO1uhwdWl/2udK",
      "include_colab_link": true
    },
    "kernelspec": {
      "name": "python3",
      "display_name": "Python 3"
    },
    "language_info": {
      "name": "python"
    }
  },
  "cells": [
    {
      "cell_type": "markdown",
      "metadata": {
        "id": "view-in-github",
        "colab_type": "text"
      },
      "source": [
        "<a href=\"https://colab.research.google.com/github/Neilvaldrez/58013-LinearAlgebra/blob/main/PythonExercise9.ipynb\" target=\"_parent\"><img src=\"https://colab.research.google.com/assets/colab-badge.svg\" alt=\"Open In Colab\"/></a>"
      ]
    },
    {
      "cell_type": "code",
      "source": [
        "#Commutative Property of Matrix Multiplication\n",
        "import numpy as np\n",
        "\n",
        "C = np.array([\n",
        "    [6, 3, 7],\n",
        "    [6, 5, 3],\n",
        "    [4, 9, 8]\n",
        "])\n",
        "\n",
        "D = np.array([\n",
        "    [2, 8, 1],\n",
        "    [5, 7, 6],\n",
        "    [9, 4, 2]\n",
        "])\n",
        "\n",
        "result_CD = np.dot(C, D)\n",
        "\n",
        "result_DC = np.dot(D, C)\n",
        "\n",
        "commutative_property = np.array_equal(result_CD, result_DC)\n",
        "\n",
        "print(\"Matrix C * D:\")\n",
        "print(result_CD)\n",
        "print(\"Matrix D * C:\")\n",
        "print(result_DC)\n",
        "print(\"Commutative Property:\", commutative_property)\n"
      ],
      "metadata": {
        "colab": {
          "base_uri": "https://localhost:8080/"
        },
        "id": "csVhg_Y_ENf9",
        "outputId": "7a478533-2d26-4bc9-bb4a-e441a880bfc8"
      },
      "execution_count": 17,
      "outputs": [
        {
          "output_type": "stream",
          "name": "stdout",
          "text": [
            "Matrix C * D:\n",
            "[[ 90  97  38]\n",
            " [ 64  95  42]\n",
            " [125 127  74]]\n",
            "Matrix D * C:\n",
            "[[ 64  55  46]\n",
            " [ 96 104 104]\n",
            " [ 86  65  91]]\n",
            "Commutative Property: False\n"
          ]
        }
      ]
    },
    {
      "cell_type": "code",
      "source": [
        "#Associative Property of Matrix Multiplication\n",
        "import numpy as np\n",
        "\n",
        "C = np.array([\n",
        "    [6, 3, 7],\n",
        "    [6, 5, 3],\n",
        "    [4, 9, 8]\n",
        "])\n",
        "\n",
        "A = np.array([\n",
        "    [2, 1, 3],\n",
        "    [5, 2, 4],\n",
        "    [7, 2, 1]\n",
        "])\n",
        "\n",
        "B = np.array([\n",
        "    [9, 2, 6],\n",
        "    [1, 7, 5],\n",
        "    [3, 8, 2]\n",
        "])\n",
        "\n",
        "result_AB_C = np.dot(np.dot(A, B), C)\n",
        "\n",
        "result_A_BC = np.dot(A, np.dot(B, C))\n",
        "\n",
        "associative_property = np.array_equal(result_AB_C, result_A_BC)\n",
        "\n",
        "print(\"Matrix (A * B) * C:\")\n",
        "print(result_AB_C)\n",
        "print(\"Matrix A * (B * C):\")\n",
        "print(result_A_BC)\n",
        "print(\"Associative Property:\", associative_property)\n"
      ],
      "metadata": {
        "colab": {
          "base_uri": "https://localhost:8080/"
        },
        "id": "rk0n6oFtEVyz",
        "outputId": "d14b15e4-8d7c-40f0-eceb-dc77156a3d98"
      },
      "execution_count": 18,
      "outputs": [
        {
          "output_type": "stream",
          "name": "stdout",
          "text": [
            "Matrix (A * B) * C:\n",
            "[[ 470  466  485]\n",
            " [ 882  889  965]\n",
            " [ 840  870 1016]]\n",
            "Matrix A * (B * C):\n",
            "[[ 470  466  485]\n",
            " [ 882  889  965]\n",
            " [ 840  870 1016]]\n",
            "Associative Property: True\n"
          ]
        }
      ]
    },
    {
      "cell_type": "code",
      "source": [
        "#Multiplicative Identity Property of Matrix Multiplication\n",
        "import numpy as np\n",
        "\n",
        "C = np.array([\n",
        "    [6, 3, 7],\n",
        "    [6, 5, 3],\n",
        "    [4, 9, 8]\n",
        "])\n",
        "\n",
        "I = 1\n",
        "IC = np.dot(I,C)\n",
        "CI = np.dot(C,I)\n",
        "\n",
        "print(\"Array C:\\n\",C,\"\\nProduct of I*C:\\n\",IC,\"\\nProduct of C*I:\\n\",CI)\n",
        "print(\"From these arrays, IC=CI, and CI=C.\")"
      ],
      "metadata": {
        "colab": {
          "base_uri": "https://localhost:8080/"
        },
        "id": "D-YmyxmWEweb",
        "outputId": "08f02cb1-2f14-4472-f8e9-1ce0b67c650f"
      },
      "execution_count": 24,
      "outputs": [
        {
          "output_type": "stream",
          "name": "stdout",
          "text": [
            "Array C:\n",
            " [[6 3 7]\n",
            " [6 5 3]\n",
            " [4 9 8]] \n",
            "Product of I*C:\n",
            " [[6 3 7]\n",
            " [6 5 3]\n",
            " [4 9 8]] \n",
            "Product of C*I:\n",
            " [[6 3 7]\n",
            " [6 5 3]\n",
            " [4 9 8]]\n",
            "From these arrays, IC=CI, and CI=C.\n"
          ]
        }
      ]
    },
    {
      "cell_type": "code",
      "source": [
        "#Multiplicative Property of Zero\n",
        "\n",
        "O = 0\n",
        "OC = np.dot(O,C)\n",
        "CO = np.dot(C,O)\n",
        "\n",
        "print(\"Array C:\\n\",C,\"\\nThe Product of O and C:\\n\",OC,\"\\nThe Product of C and O:\\n\",CO)\n",
        "print(\"Therefore, OC = 0, and CO = 0.\")"
      ],
      "metadata": {
        "colab": {
          "base_uri": "https://localhost:8080/"
        },
        "id": "Hr_5xKjXFycL",
        "outputId": "c85336ed-7efe-4c4e-e883-129b10fabff6"
      },
      "execution_count": 23,
      "outputs": [
        {
          "output_type": "stream",
          "name": "stdout",
          "text": [
            "Array C:\n",
            " [[6 3 7]\n",
            " [6 5 3]\n",
            " [4 9 8]] \n",
            "The Product of O and C:\n",
            " [[0 0 0]\n",
            " [0 0 0]\n",
            " [0 0 0]] \n",
            "The Product of C and O:\n",
            " [[0 0 0]\n",
            " [0 0 0]\n",
            " [0 0 0]]\n",
            "Therefore, OC = 0, and CO = 0\n"
          ]
        }
      ]
    },
    {
      "cell_type": "code",
      "source": [
        "#Dimension Property of Matrix Multiplication\n",
        "\n",
        "E = np.array([\n",
        "    [6, 3],\n",
        "    [6, 5],\n",
        "    [4, 9]\n",
        "])\n",
        "\n",
        "F = np.array([\n",
        "    [2, 3, 5],\n",
        "    [3, 0, 1]\n",
        "])\n",
        "\n",
        "ShapeE = np.shape(E)\n",
        "ShapeF = np.shape(F)\n",
        "dProduct = np.dot(ShapeE[])\n"
      ],
      "metadata": {
        "colab": {
          "base_uri": "https://localhost:8080/",
          "height": 355
        },
        "id": "q6i1WL2WGPor",
        "outputId": "133c486a-41fa-45d7-e73d-b2898e2f1ddb"
      },
      "execution_count": 31,
      "outputs": [
        {
          "output_type": "error",
          "ename": "TypeError",
          "evalue": "ignored",
          "traceback": [
            "\u001b[0;31m---------------------------------------------------------------------------\u001b[0m",
            "\u001b[0;31mTypeError\u001b[0m                                 Traceback (most recent call last)",
            "\u001b[0;32m<ipython-input-31-eecfc51ba490>\u001b[0m in \u001b[0;36m<cell line: 16>\u001b[0;34m()\u001b[0m\n\u001b[1;32m     14\u001b[0m \u001b[0mShapeE\u001b[0m \u001b[0;34m=\u001b[0m \u001b[0mnp\u001b[0m\u001b[0;34m.\u001b[0m\u001b[0mshape\u001b[0m\u001b[0;34m(\u001b[0m\u001b[0mE\u001b[0m\u001b[0;34m)\u001b[0m\u001b[0;34m\u001b[0m\u001b[0;34m\u001b[0m\u001b[0m\n\u001b[1;32m     15\u001b[0m \u001b[0mShapeF\u001b[0m \u001b[0;34m=\u001b[0m \u001b[0mnp\u001b[0m\u001b[0;34m.\u001b[0m\u001b[0mshape\u001b[0m\u001b[0;34m(\u001b[0m\u001b[0mF\u001b[0m\u001b[0;34m)\u001b[0m\u001b[0;34m\u001b[0m\u001b[0;34m\u001b[0m\u001b[0m\n\u001b[0;32m---> 16\u001b[0;31m \u001b[0mdProduct\u001b[0m \u001b[0;34m=\u001b[0m \u001b[0mnp\u001b[0m\u001b[0;34m.\u001b[0m\u001b[0mproduct\u001b[0m\u001b[0;34m(\u001b[0m\u001b[0mE\u001b[0m\u001b[0;34m,\u001b[0m \u001b[0mF\u001b[0m\u001b[0;34m)\u001b[0m\u001b[0;34m\u001b[0m\u001b[0;34m\u001b[0m\u001b[0m\n\u001b[0m",
            "\u001b[0;32m/usr/local/lib/python3.10/dist-packages/numpy/core/overrides.py\u001b[0m in \u001b[0;36mproduct\u001b[0;34m(*args, **kwargs)\u001b[0m\n",
            "\u001b[0;32m/usr/local/lib/python3.10/dist-packages/numpy/core/fromnumeric.py\u001b[0m in \u001b[0;36mproduct\u001b[0;34m(*args, **kwargs)\u001b[0m\n\u001b[1;32m   3741\u001b[0m     \u001b[0mprod\u001b[0m \u001b[0;34m:\u001b[0m \u001b[0mequivalent\u001b[0m \u001b[0mfunction\u001b[0m\u001b[0;34m;\u001b[0m \u001b[0msee\u001b[0m \u001b[0;32mfor\u001b[0m \u001b[0mdetails\u001b[0m\u001b[0;34m.\u001b[0m\u001b[0;34m\u001b[0m\u001b[0;34m\u001b[0m\u001b[0m\n\u001b[1;32m   3742\u001b[0m     \"\"\"\n\u001b[0;32m-> 3743\u001b[0;31m     \u001b[0;32mreturn\u001b[0m \u001b[0mprod\u001b[0m\u001b[0;34m(\u001b[0m\u001b[0;34m*\u001b[0m\u001b[0margs\u001b[0m\u001b[0;34m,\u001b[0m \u001b[0;34m**\u001b[0m\u001b[0mkwargs\u001b[0m\u001b[0;34m)\u001b[0m\u001b[0;34m\u001b[0m\u001b[0;34m\u001b[0m\u001b[0m\n\u001b[0m\u001b[1;32m   3744\u001b[0m \u001b[0;34m\u001b[0m\u001b[0m\n\u001b[1;32m   3745\u001b[0m \u001b[0;34m\u001b[0m\u001b[0m\n",
            "\u001b[0;32m/usr/local/lib/python3.10/dist-packages/numpy/core/overrides.py\u001b[0m in \u001b[0;36mprod\u001b[0;34m(*args, **kwargs)\u001b[0m\n",
            "\u001b[0;32m/usr/local/lib/python3.10/dist-packages/numpy/core/fromnumeric.py\u001b[0m in \u001b[0;36mprod\u001b[0;34m(a, axis, dtype, out, keepdims, initial, where)\u001b[0m\n\u001b[1;32m   3043\u001b[0m     \u001b[0;36m10\u001b[0m\u001b[0;34m\u001b[0m\u001b[0;34m\u001b[0m\u001b[0m\n\u001b[1;32m   3044\u001b[0m     \"\"\"\n\u001b[0;32m-> 3045\u001b[0;31m     return _wrapreduction(a, np.multiply, 'prod', axis, dtype, out,\n\u001b[0m\u001b[1;32m   3046\u001b[0m                           keepdims=keepdims, initial=initial, where=where)\n\u001b[1;32m   3047\u001b[0m \u001b[0;34m\u001b[0m\u001b[0m\n",
            "\u001b[0;32m/usr/local/lib/python3.10/dist-packages/numpy/core/fromnumeric.py\u001b[0m in \u001b[0;36m_wrapreduction\u001b[0;34m(obj, ufunc, method, axis, dtype, out, **kwargs)\u001b[0m\n\u001b[1;32m     84\u001b[0m                 \u001b[0;32mreturn\u001b[0m \u001b[0mreduction\u001b[0m\u001b[0;34m(\u001b[0m\u001b[0maxis\u001b[0m\u001b[0;34m=\u001b[0m\u001b[0maxis\u001b[0m\u001b[0;34m,\u001b[0m \u001b[0mout\u001b[0m\u001b[0;34m=\u001b[0m\u001b[0mout\u001b[0m\u001b[0;34m,\u001b[0m \u001b[0;34m**\u001b[0m\u001b[0mpasskwargs\u001b[0m\u001b[0;34m)\u001b[0m\u001b[0;34m\u001b[0m\u001b[0;34m\u001b[0m\u001b[0m\n\u001b[1;32m     85\u001b[0m \u001b[0;34m\u001b[0m\u001b[0m\n\u001b[0;32m---> 86\u001b[0;31m     \u001b[0;32mreturn\u001b[0m \u001b[0mufunc\u001b[0m\u001b[0;34m.\u001b[0m\u001b[0mreduce\u001b[0m\u001b[0;34m(\u001b[0m\u001b[0mobj\u001b[0m\u001b[0;34m,\u001b[0m \u001b[0maxis\u001b[0m\u001b[0;34m,\u001b[0m \u001b[0mdtype\u001b[0m\u001b[0;34m,\u001b[0m \u001b[0mout\u001b[0m\u001b[0;34m,\u001b[0m \u001b[0;34m**\u001b[0m\u001b[0mpasskwargs\u001b[0m\u001b[0;34m)\u001b[0m\u001b[0;34m\u001b[0m\u001b[0;34m\u001b[0m\u001b[0m\n\u001b[0m\u001b[1;32m     87\u001b[0m \u001b[0;34m\u001b[0m\u001b[0m\n\u001b[1;32m     88\u001b[0m \u001b[0;34m\u001b[0m\u001b[0m\n",
            "\u001b[0;31mTypeError\u001b[0m: only integer scalar arrays can be converted to a scalar index"
          ]
        }
      ]
    }
  ]
}