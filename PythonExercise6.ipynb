{
  "nbformat": 4,
  "nbformat_minor": 0,
  "metadata": {
    "colab": {
      "provenance": [],
      "authorship_tag": "ABX9TyPj864qHEewV4Jykq7drVj3",
      "include_colab_link": true
    },
    "kernelspec": {
      "name": "python3",
      "display_name": "Python 3"
    },
    "language_info": {
      "name": "python"
    }
  },
  "cells": [
    {
      "cell_type": "markdown",
      "metadata": {
        "id": "view-in-github",
        "colab_type": "text"
      },
      "source": [
        "<a href=\"https://colab.research.google.com/github/Neilvaldrez/58013-LinearAlgebra/blob/main/PythonExercise6.ipynb\" target=\"_parent\"><img src=\"https://colab.research.google.com/assets/colab-badge.svg\" alt=\"Open In Colab\"/></a>"
      ]
    },
    {
      "cell_type": "markdown",
      "source": [
        "*Accessing a multidimensional list:*"
      ],
      "metadata": {
        "id": "Pet9aJEXfrzs"
      }
    },
    {
      "cell_type": "code",
      "source": [
        "# Python program to demonstrate printing\n",
        "# of complete multidimensional list\n",
        "a = [[2, 4, 6, 8, 10], [3, 6, 9, 12, 15], [4, 8, 12, 16, 20]]\n",
        "print(a)\n"
      ],
      "metadata": {
        "colab": {
          "base_uri": "https://localhost:8080/"
        },
        "id": "DPDKO5gWeKga",
        "outputId": "e03c8506-a4a6-4fed-b06c-58c5968b38d6"
      },
      "execution_count": 4,
      "outputs": [
        {
          "output_type": "stream",
          "name": "stdout",
          "text": [
            "[[2, 4, 6, 8, 10], [3, 6, 9, 12, 15], [4, 8, 12, 16, 20]]\n"
          ]
        }
      ]
    },
    {
      "cell_type": "markdown",
      "source": [
        "*Accessing with the help of loop:*"
      ],
      "metadata": {
        "id": "1OWxvOlmfwaJ"
      }
    },
    {
      "cell_type": "code",
      "source": [
        "# Python program to demonstrate printing\n",
        "# of complete multidimensional list row\n",
        "# by row.\n",
        "a = [[2, 4, 6, 8, 10], [3, 6, 9, 12, 15], [4, 8, 12, 16, 20]]\n",
        "for record in a:\n",
        "    print(record)\n"
      ],
      "metadata": {
        "colab": {
          "base_uri": "https://localhost:8080/"
        },
        "id": "Ka3vsF0tf0LZ",
        "outputId": "8cce7a8c-311b-4517-990e-851a24a41e85"
      },
      "execution_count": 5,
      "outputs": [
        {
          "output_type": "stream",
          "name": "stdout",
          "text": [
            "[2, 4, 6, 8, 10]\n",
            "[3, 6, 9, 12, 15]\n",
            "[4, 8, 12, 16, 20]\n"
          ]
        }
      ]
    },
    {
      "cell_type": "markdown",
      "source": [
        "*Accessing using square brackets*"
      ],
      "metadata": {
        "id": "SuraD6a0f2y5"
      }
    },
    {
      "cell_type": "code",
      "source": [
        "# Python program to demonstrate that we\n",
        "# can access multidimensional list using\n",
        "# square brackets\n",
        "a = [ [2, 4, 6, 8 ],\n",
        "    [ 1, 3, 5, 7 ],\n",
        "    [ 8, 6, 4, 2 ],\n",
        "    [ 7, 5, 3, 1 ] ]\n",
        "\n",
        "for i in range(len(a)) :\n",
        "    for j in range(len(a[i])) :\n",
        "        print(a[i][j], end=\" \")\n",
        "    print()\n"
      ],
      "metadata": {
        "colab": {
          "base_uri": "https://localhost:8080/"
        },
        "id": "9OJIjJkgf4PQ",
        "outputId": "d21a8179-f5b3-498f-a68e-a0c6f608574a"
      },
      "execution_count": 6,
      "outputs": [
        {
          "output_type": "stream",
          "name": "stdout",
          "text": [
            "2 4 6 8 \n",
            "1 3 5 7 \n",
            "8 6 4 2 \n",
            "7 5 3 1 \n"
          ]
        }
      ]
    }
  ]
}