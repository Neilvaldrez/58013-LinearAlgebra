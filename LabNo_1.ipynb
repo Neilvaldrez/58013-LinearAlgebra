{
  "nbformat": 4,
  "nbformat_minor": 0,
  "metadata": {
    "colab": {
      "provenance": [],
      "authorship_tag": "ABX9TyMzZw3j4v2pS2jZLgHcMAU/",
      "include_colab_link": true
    },
    "kernelspec": {
      "name": "python3",
      "display_name": "Python 3"
    },
    "language_info": {
      "name": "python"
    }
  },
  "cells": [
    {
      "cell_type": "markdown",
      "metadata": {
        "id": "view-in-github",
        "colab_type": "text"
      },
      "source": [
        "<a href=\"https://colab.research.google.com/github/Neilvaldrez/58013-LinearAlgebra/blob/main/LabNo_1.ipynb\" target=\"_parent\"><img src=\"https://colab.research.google.com/assets/colab-badge.svg\" alt=\"Open In Colab\"/></a>"
      ]
    },
    {
      "cell_type": "code",
      "source": [
        "#A. Variable and Data Types\n",
        "\n",
        "x = 1\n",
        "a,b = 0, -1\n",
        "\n",
        "y = 1.0\n",
        "type(y)\n",
        "\n",
        "x = float(x)\n",
        "type(x)\n",
        "\n",
        "s,t,u = \"0\", '1', 'one'\n",
        "type(s)\n",
        "\n",
        "s_int = int(s)\n",
        "s_int"
      ],
      "metadata": {
        "colab": {
          "base_uri": "https://localhost:8080/"
        },
        "id": "SM_Gg3R1hZG3",
        "outputId": "993c1865-3587-4581-beeb-c28755018471"
      },
      "execution_count": 1,
      "outputs": [
        {
          "output_type": "execute_result",
          "data": {
            "text/plain": [
              "0"
            ]
          },
          "metadata": {},
          "execution_count": 1
        }
      ]
    },
    {
      "cell_type": "code",
      "source": [
        "#B. Arithmetic Operations\n",
        "\n",
        "a,b,c,d = 2.0, -0.5, 0, -32\n",
        "\n",
        "### Addition\n",
        "S = a+b\n",
        "S\n",
        "\n",
        "### Subtraction\n",
        "D = b-d\n",
        "D\n",
        "\n",
        "### Multiplication\n",
        "P = a*d\n",
        "P\n",
        "\n",
        "### Division\n",
        "Q = c/a\n",
        "Q\n",
        "\n",
        "### Exponentiation\n",
        "E = a**b\n",
        "E\n",
        "\n",
        "### Modulo\n",
        "mod = d%a\n",
        "mod"
      ],
      "metadata": {
        "colab": {
          "base_uri": "https://localhost:8080/"
        },
        "id": "koxDaCPThzEf",
        "outputId": "35bba8d5-1d39-4102-829c-8b43fcae5eb5"
      },
      "execution_count": 3,
      "outputs": [
        {
          "output_type": "execute_result",
          "data": {
            "text/plain": [
              "0.0"
            ]
          },
          "metadata": {},
          "execution_count": 3
        }
      ]
    },
    {
      "cell_type": "code",
      "source": [
        "#C. Assignment Operations\n",
        "\n",
        "G, H, J, K = 0, 100, 2, 2\n",
        "\n",
        "G += a\n",
        "G\n",
        "\n",
        "H -= d\n",
        "H\n",
        "\n",
        "J *= 2\n",
        "J\n",
        "\n",
        "K **= 2\n",
        "K"
      ],
      "metadata": {
        "id": "TNLOpYqDiRHX"
      },
      "execution_count": null,
      "outputs": []
    },
    {
      "cell_type": "code",
      "source": [
        "#D. Comparators\n",
        "res_1, res_2, res_3 = 1, 2.0, \"1\"\n",
        "\n",
        "true_val = 1.0\n",
        "\n",
        "\n",
        "\n",
        "## Equality\n",
        "\n",
        "res_1 == true_val\n",
        "\n",
        "\n",
        "\n",
        "## Non-equality\n",
        "\n",
        "res_2 != true_val\n",
        "\n",
        "\n",
        "\n",
        "## Inequality\n",
        "\n",
        "t1 = res_1 > res_2\n",
        "\n",
        "t2 = res_1 < res_2/2\n",
        "\n",
        "t3 = res_1 >= res_2/2\n",
        "\n",
        "t4 = res_1 <= res_2\n",
        "\n",
        "t1"
      ],
      "metadata": {
        "colab": {
          "base_uri": "https://localhost:8080/"
        },
        "id": "Hyr83GEKi9ni",
        "outputId": "14d5ea8f-f8cb-4d9f-d0e8-77edf5e7e34a"
      },
      "execution_count": 4,
      "outputs": [
        {
          "output_type": "execute_result",
          "data": {
            "text/plain": [
              "False"
            ]
          },
          "metadata": {},
          "execution_count": 4
        }
      ]
    },
    {
      "cell_type": "code",
      "source": [
        "#E. Logical\n",
        "\n",
        "res_1 == true_val\n",
        "\n",
        "\n",
        "\n",
        "res_1 is true_val\n",
        "\n",
        "\n",
        "\n",
        "res_1 is not true_val\n",
        "\n",
        "\n",
        "\n",
        "p, q = True, False\n",
        "\n",
        "conj = p and q\n",
        "\n",
        "conj\n",
        "\n",
        "\n",
        "\n",
        "p, q = True, False\n",
        "\n",
        "disj = p or q\n",
        "\n",
        "disj\n",
        "\n",
        "\n",
        "\n",
        "\n",
        "\n",
        "p, q = True, False\n",
        "\n",
        "nand = not(p and q)\n",
        "\n",
        "nand\n",
        "\n",
        "\n",
        "\n",
        "p, q = True, False\n",
        "\n",
        "xor = (not p and q) or (p and not q)\n",
        "\n",
        "xor"
      ],
      "metadata": {
        "colab": {
          "base_uri": "https://localhost:8080/"
        },
        "id": "hDtskkg9jH1r",
        "outputId": "40795d66-bd5f-4a03-eb9e-98ab69334c1c"
      },
      "execution_count": 5,
      "outputs": [
        {
          "output_type": "execute_result",
          "data": {
            "text/plain": [
              "True"
            ]
          },
          "metadata": {},
          "execution_count": 5
        }
      ]
    },
    {
      "cell_type": "code",
      "source": [
        "#F. Input and Output Operators\n",
        "\n",
        "print(\"Hello World\")\n",
        "\n",
        "\n",
        "\n",
        "cnt = 1\n",
        "\n",
        "\n",
        "\n",
        "string = \"Hello World\"\n",
        "\n",
        "print(string, \", Current run count is:\", cnt)\n",
        "\n",
        "cnt += 1\n",
        "\n",
        "\n",
        "\n",
        "print(f\"{string}, Current count is: {cnt}\")\n",
        "\n",
        "\n",
        "\n",
        "sem_grade = 82.243564657461234\n",
        "\n",
        "name = \"\"\n",
        "\n",
        "print(\"Hello {}, your semestral grade is: {}\".format(name, sem_grade))\n",
        "\n",
        "\n",
        "w_pg, w_mg, w_fg = 0.3, 0.3, 0.4\n",
        "\n",
        "print(\"The weights of your semestral grades are:\\\n",
        "\\n\\t{:.2%} for Prelims\\\n",
        "\\n\\t{:.2%} for Midterms, and\\\n",
        "\\n\\t{:.2%} for Finals.\".format(w_pg, w_mg, w_fg))\n",
        "\n",
        "\n",
        "x = input(\"enter a number: \")\n",
        "\n",
        "x\n",
        "\n",
        "name = input(\"Kimi no nawa: \")\n",
        "\n",
        "pg = input(\"Enter prelim grade: \")\n",
        "\n",
        "mg = input(\"Enter midterm grade: \")\n",
        "\n",
        "fg = input(\"Enter finals grade: \")\n",
        "\n",
        "sem_grade = None\n",
        "\n",
        "print(\"Hello {}, your semestral grade is: {}\".format(name, sem_grade))"
      ],
      "metadata": {
        "colab": {
          "base_uri": "https://localhost:8080/"
        },
        "id": "Hq5L204njS56",
        "outputId": "d1dff7c0-33de-4669-ebe5-527b26c08854"
      },
      "execution_count": 9,
      "outputs": [
        {
          "output_type": "stream",
          "name": "stdout",
          "text": [
            "Hello World\n",
            "Hello World , Current run count is: 1\n",
            "Hello World, Current count is: 2\n",
            "Hello , your semestral grade is: 82.24356465746123\n",
            "The weights of your semestral grades are:\n",
            "\t30.00% for Prelims\n",
            "\t30.00% for Midterms, and\n",
            "\t40.00% for Finals.\n",
            "enter a number: 1\n",
            "Kimi no nawa: Neil Aaron Valdrez\n",
            "Enter prelim grade: 90\n",
            "Enter midterm grade: 88\n",
            "Enter finals grade: 93\n",
            "Hello Neil Aaron Valdrez, your semestral grade is: None\n"
          ]
        }
      ]
    },
    {
      "cell_type": "code",
      "source": [
        "#G. Looping Statements\n",
        "\n",
        "## while loops\n",
        "\n",
        "i, j = 0, 10\n",
        "\n",
        "while(i<=j):\n",
        "\n",
        "    print(f\"{i}\\t|\\t{j}\")\n",
        "\n",
        "    i+=1\n",
        "\n",
        "\n",
        "\n",
        "# for(int i=0; i<10; i++){\n",
        "\n",
        "# printf(i)\n",
        "\n",
        "# }\n",
        "\n",
        "\n",
        "\n",
        "i=0\n",
        "\n",
        "for i in range(10):\n",
        "\n",
        "    print(i)"
      ],
      "metadata": {
        "colab": {
          "base_uri": "https://localhost:8080/"
        },
        "id": "EiCEQ3Ukkwel",
        "outputId": "883213d9-7e34-4854-f7fb-617721035b81"
      },
      "execution_count": 10,
      "outputs": [
        {
          "output_type": "stream",
          "name": "stdout",
          "text": [
            "0\t|\t10\n",
            "1\t|\t10\n",
            "2\t|\t10\n",
            "3\t|\t10\n",
            "4\t|\t10\n",
            "5\t|\t10\n",
            "6\t|\t10\n",
            "7\t|\t10\n",
            "8\t|\t10\n",
            "9\t|\t10\n",
            "10\t|\t10\n",
            "0\n",
            "1\n",
            "2\n",
            "3\n",
            "4\n",
            "5\n",
            "6\n",
            "7\n",
            "8\n",
            "9\n"
          ]
        }
      ]
    },
    {
      "cell_type": "code",
      "source": [
        "#H. Flow Control\n",
        "\n",
        "###Condition Statements\n",
        "\n",
        "numeral1, numeral2 = 12, 12\n",
        "\n",
        "if(numeral1 == numeral2):\n",
        "\n",
        "     print(\"Yey\")\n",
        "\n",
        "elif(numeral1>numeral2):\n",
        "\n",
        "     print(\"Hoho\")\n",
        "\n",
        "else:\n",
        "\n",
        "     print(\"Aww\")\n",
        "\n",
        "print(\"Hip hip\")"
      ],
      "metadata": {
        "colab": {
          "base_uri": "https://localhost:8080/"
        },
        "id": "2Zg_8QTZk50g",
        "outputId": "2dc73f96-5900-4de3-a429-a528c29903da"
      },
      "execution_count": 11,
      "outputs": [
        {
          "output_type": "stream",
          "name": "stdout",
          "text": [
            "Yey\n",
            "Hip hip\n"
          ]
        }
      ]
    },
    {
      "cell_type": "code",
      "source": [
        "#I. Functions\n",
        "\n",
        "# void DeleteUser(int userid){\n",
        "\n",
        "#     delete(userid);\n",
        "\n",
        "# }\n",
        "\n",
        "\n",
        "\n",
        "def delete_user (userid):\n",
        "\n",
        "     print(\"Successfully deleted user: {}\".format(userid))\n",
        "\n",
        "\n",
        "\n",
        "def delete_all_users ():\n",
        "\n",
        "     print(\"Successfully deleted all users\")"
      ],
      "metadata": {
        "id": "t8Yht_Wbk_C7"
      },
      "execution_count": 12,
      "outputs": []
    }
  ]
}