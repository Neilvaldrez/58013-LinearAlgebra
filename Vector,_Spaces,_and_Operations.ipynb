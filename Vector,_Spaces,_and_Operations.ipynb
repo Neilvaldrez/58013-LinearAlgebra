{
  "nbformat": 4,
  "nbformat_minor": 0,
  "metadata": {
    "colab": {
      "provenance": [],
      "authorship_tag": "ABX9TyPTuM2iC6UPZd4/mZZVJN0V",
      "include_colab_link": true
    },
    "kernelspec": {
      "name": "python3",
      "display_name": "Python 3"
    },
    "language_info": {
      "name": "python"
    }
  },
  "cells": [
    {
      "cell_type": "markdown",
      "metadata": {
        "id": "view-in-github",
        "colab_type": "text"
      },
      "source": [
        "<a href=\"https://colab.research.google.com/github/Neilvaldrez/58013-LinearAlgebra/blob/main/Vector%2C_Spaces%2C_and_Operations.ipynb\" target=\"_parent\"><img src=\"https://colab.research.google.com/assets/colab-badge.svg\" alt=\"Open In Colab\"/></a>"
      ]
    },
    {
      "cell_type": "code",
      "source": [
        "import numpy as np\n",
        "A = np.array([4,3])\n",
        "B = np.array([2,-5])\n",
        "\n",
        "print('Vector A is ', A)\n",
        "print('Vector B is ', B)"
      ],
      "metadata": {
        "colab": {
          "base_uri": "https://localhost:8080/"
        },
        "id": "dHZF4qNfdHKH",
        "outputId": "337abb12-2225-4200-a6d4-e0d669f612d8"
      },
      "execution_count": 8,
      "outputs": [
        {
          "output_type": "stream",
          "name": "stdout",
          "text": [
            "Vector A is  [4 3]\n",
            "Vector B is  [ 2 -5]\n"
          ]
        }
      ]
    },
    {
      "cell_type": "markdown",
      "source": [
        "Shape of the Matrices"
      ],
      "metadata": {
        "id": "K_EOMjpJjA9o"
      }
    },
    {
      "cell_type": "code",
      "source": [
        "#Size Dimension, Size\n",
        "import numpy as np\n",
        "ball1 = np.array([1,2,3])\n",
        "ball2 = np.array([0,1,-1])\n",
        "print(ball1)\n",
        "print(ball2)\n",
        "ball = np.shape(ball1)\n",
        "balls = np.shape(ball2)\n",
        "z = ball+balls\n",
        "print(z)\n"
      ],
      "metadata": {
        "colab": {
          "base_uri": "https://localhost:8080/"
        },
        "id": "KGUniVUSiloY",
        "outputId": "ca52fa5c-e30f-4d0d-f8db-8c6d9ac68ac4"
      },
      "execution_count": 51,
      "outputs": [
        {
          "output_type": "stream",
          "name": "stdout",
          "text": [
            "[1 2 3]\n",
            "[ 0  1 -1]\n",
            "(3, 3)\n",
            "1\n"
          ]
        }
      ]
    },
    {
      "cell_type": "markdown",
      "source": [
        "Vector Operations"
      ],
      "metadata": {
        "id": "IdvHdFgcrnwv"
      }
    },
    {
      "cell_type": "code",
      "source": [
        "#Addition\n",
        "import numpy as np\n",
        "\n",
        "A = np.array([4,3])\n",
        "B = np.array([2,-5])\n",
        "aR = np.add(A,B)\n",
        "\n",
        "print(R)"
      ],
      "metadata": {
        "colab": {
          "base_uri": "https://localhost:8080/"
        },
        "id": "pRisoCPKko2O",
        "outputId": "c5ab665f-2ee3-42c2-f9ea-ac594e4c8dda"
      },
      "execution_count": 57,
      "outputs": [
        {
          "output_type": "stream",
          "name": "stdout",
          "text": [
            "[ 6 -2]\n"
          ]
        }
      ]
    },
    {
      "cell_type": "code",
      "source": [
        "#Subtraction\n",
        "sR1 = np.subtract(A,B)\n",
        "print(sR1)\n",
        "sR2 = np.subtract(B,A)\n",
        "print(sR2)"
      ],
      "metadata": {
        "colab": {
          "base_uri": "https://localhost:8080/"
        },
        "id": "QRxEEYUDtAds",
        "outputId": "49fa222d-61e8-4cdd-a5ee-8b00a5d608ae"
      },
      "execution_count": 91,
      "outputs": [
        {
          "output_type": "stream",
          "name": "stdout",
          "text": [
            "[[2 1]\n",
            " [9 8]]\n",
            "[[-2 -1]\n",
            " [-9 -8]]\n"
          ]
        }
      ]
    },
    {
      "cell_type": "code",
      "source": [
        "#Multiplication\n",
        "mR = np.multiply(A,B)\n",
        "print(mR)"
      ],
      "metadata": {
        "colab": {
          "base_uri": "https://localhost:8080/"
        },
        "id": "EOsGYXo309jy",
        "outputId": "3469157b-cbbb-41c0-d23b-9fe2ff2183c1"
      },
      "execution_count": 83,
      "outputs": [
        {
          "output_type": "stream",
          "name": "stdout",
          "text": [
            "[[  8   6]\n",
            " [-20 -15]]\n"
          ]
        }
      ]
    },
    {
      "cell_type": "code",
      "source": [
        "#Division\n",
        "dR = np.divide(A,B)\n",
        "print(dR)"
      ],
      "metadata": {
        "colab": {
          "base_uri": "https://localhost:8080/"
        },
        "id": "bMBkQ4Ol1giB",
        "outputId": "9f181218-3814-4b43-a3b2-000c1be1b127"
      },
      "execution_count": 88,
      "outputs": [
        {
          "output_type": "stream",
          "name": "stdout",
          "text": [
            "[[ 2.   1.5]\n",
            " [-0.8 -0.6]]\n"
          ]
        }
      ]
    },
    {
      "cell_type": "code",
      "source": [
        "#Scalar Product\n",
        "S = np.array([2])\n",
        "V = S*A\n",
        "print(V)"
      ],
      "metadata": {
        "colab": {
          "base_uri": "https://localhost:8080/"
        },
        "id": "Jms1u3MHuPSy",
        "outputId": "8f0e14a4-fd34-4f14-c1b2-cdc3cb9dd552"
      },
      "execution_count": 62,
      "outputs": [
        {
          "output_type": "stream",
          "name": "stdout",
          "text": [
            "[8 6]\n"
          ]
        }
      ]
    },
    {
      "cell_type": "code",
      "source": [
        "#Dot Product\n",
        "dP = np.dot(A,B)\n",
        "print(dP)"
      ],
      "metadata": {
        "colab": {
          "base_uri": "https://localhost:8080/"
        },
        "id": "nGrPIntau7ix",
        "outputId": "89b7d603-8805-41bd-c14f-11b89fbb8b72"
      },
      "execution_count": 68,
      "outputs": [
        {
          "output_type": "stream",
          "name": "stdout",
          "text": [
            "-7\n"
          ]
        }
      ]
    },
    {
      "cell_type": "code",
      "source": [
        "#Cross Product\n",
        "cP = np.cross(A,B)\n",
        "print(cP)"
      ],
      "metadata": {
        "colab": {
          "base_uri": "https://localhost:8080/"
        },
        "id": "otWjcpbEw6DX",
        "outputId": "f0ba5dfc-d7ba-4fc5-80e5-30433ca5adfe"
      },
      "execution_count": 69,
      "outputs": [
        {
          "output_type": "stream",
          "name": "stdout",
          "text": [
            "-26\n"
          ]
        }
      ]
    },
    {
      "cell_type": "code",
      "source": [
        "#Properties of Matrix\n",
        "#Identity Matrix\n",
        "c = np.eye(3,3)\n",
        "print(c)\n",
        "\n",
        "#Zero Matrix\n",
        "d = np.zeros([5,5])\n",
        "print(d)\n",
        "\n",
        "#Full Matrix\n",
        "e = np.full((3,3),7)\n",
        "print(e)\n",
        "\n",
        "#Transpose Matrix\n",
        "f = np.transpose(mR)\n",
        "print(f)\n",
        "\n",
        "#Null Matrix\n",
        "g = np.empty([3,3])\n",
        "print(g)"
      ],
      "metadata": {
        "colab": {
          "base_uri": "https://localhost:8080/"
        },
        "id": "TjrXOdG-ywwF",
        "outputId": "0752bb90-f4a5-4ef5-c88e-9a70b5e9ff70"
      },
      "execution_count": 95,
      "outputs": [
        {
          "output_type": "stream",
          "name": "stdout",
          "text": [
            "[[1. 0. 0.]\n",
            " [0. 1. 0.]\n",
            " [0. 0. 1.]]\n",
            "[[0. 0. 0. 0. 0.]\n",
            " [0. 0. 0. 0. 0.]\n",
            " [0. 0. 0. 0. 0.]\n",
            " [0. 0. 0. 0. 0.]\n",
            " [0. 0. 0. 0. 0.]]\n",
            "[[7 7 7]\n",
            " [7 7 7]\n",
            " [7 7 7]]\n",
            "[[  8 -20]\n",
            " [  6 -15]]\n",
            "[[1. 0. 0.]\n",
            " [0. 1. 0.]\n",
            " [0. 0. 1.]]\n"
          ]
        }
      ]
    },
    {
      "cell_type": "code",
      "source": [],
      "metadata": {
        "id": "4NT1tXWe1ucZ"
      },
      "execution_count": null,
      "outputs": []
    }
  ]
}