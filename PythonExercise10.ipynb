{
  "nbformat": 4,
  "nbformat_minor": 0,
  "metadata": {
    "colab": {
      "provenance": [],
      "authorship_tag": "ABX9TyOs/WYDb/lCo6tHU6sOTcIJ",
      "include_colab_link": true
    },
    "kernelspec": {
      "name": "python3",
      "display_name": "Python 3"
    },
    "language_info": {
      "name": "python"
    }
  },
  "cells": [
    {
      "cell_type": "markdown",
      "metadata": {
        "id": "view-in-github",
        "colab_type": "text"
      },
      "source": [
        "<a href=\"https://colab.research.google.com/github/Neilvaldrez/58013-LinearAlgebra/blob/main/PythonExercise10.ipynb\" target=\"_parent\"><img src=\"https://colab.research.google.com/assets/colab-badge.svg\" alt=\"Open In Colab\"/></a>"
      ]
    },
    {
      "cell_type": "code",
      "source": [
        "import numpy as np\n",
        "\n",
        "A = np.array([[30, 10, 120],\n",
        "              [40, 20, 200],\n",
        "              [50, 40, 360]])\n",
        "\n",
        "B = np.array([12500, 18000, 25700])\n",
        "\n",
        "X = np.linalg.solve(A, B)\n",
        "\n",
        "price_per_sack_of_flour = X[0]\n",
        "price_per_pack_of_yeast = X[1]\n",
        "price_per_egg = X[2]\n",
        "\n",
        "print(\"Price per sack of flour: {:.2f} pesos\".format(price_per_sack_of_flour))\n",
        "print(\"Price per pack of yeast: {:.2f} pesos\".format(price_per_pack_of_yeast))\n",
        "print(\"Price per egg: {:.2f} pesos\".format(price_per_egg))"
      ],
      "metadata": {
        "colab": {
          "base_uri": "https://localhost:8080/"
        },
        "id": "fVjCX7pB-vVQ",
        "outputId": "485489cb-37e9-4a53-f8e1-37ca72faff66"
      },
      "execution_count": 7,
      "outputs": [
        {
          "output_type": "stream",
          "name": "stdout",
          "text": [
            "Price per sack of flour: 330.00 pesos\n",
            "Price per pack of yeast: 140.00 pesos\n",
            "Price per egg: 10.00 pesos\n"
          ]
        }
      ]
    }
  ]
}