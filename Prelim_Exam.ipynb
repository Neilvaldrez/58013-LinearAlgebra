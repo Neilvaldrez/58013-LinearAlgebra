{
  "nbformat": 4,
  "nbformat_minor": 0,
  "metadata": {
    "colab": {
      "provenance": [],
      "authorship_tag": "ABX9TyNgK7wznViJslMz3IFAdDKp",
      "include_colab_link": true
    },
    "kernelspec": {
      "name": "python3",
      "display_name": "Python 3"
    },
    "language_info": {
      "name": "python"
    }
  },
  "cells": [
    {
      "cell_type": "markdown",
      "metadata": {
        "id": "view-in-github",
        "colab_type": "text"
      },
      "source": [
        "<a href=\"https://colab.research.google.com/github/Neilvaldrez/58013-LinearAlgebra/blob/main/Prelim_Exam.ipynb\" target=\"_parent\"><img src=\"https://colab.research.google.com/assets/colab-badge.svg\" alt=\"Open In Colab\"/></a>"
      ]
    },
    {
      "cell_type": "markdown",
      "source": [
        "Question 1"
      ],
      "metadata": {
        "id": "cHyTShO92Xgv"
      }
    },
    {
      "cell_type": "code",
      "source": [
        "import numpy as np\n",
        "A = np.array([1,\n",
        "              2,\n",
        "              3,\n",
        "              4,\n",
        "              5,\n",
        "              6,\n",
        "              7,\n",
        "              8,\n",
        "              9,\n",
        "              10])\n",
        "result_a = 1 * A\n",
        "result_b = 2 * A\n",
        "result_c = 3 * A\n",
        "result_d = 4 * A\n",
        "result_e = 5 * A\n",
        "result_f = 6 * A\n",
        "result_g = 7 * A\n",
        "result_h = 8 * A\n",
        "result_i = 9 * A\n",
        "result_j = 10 * A\n",
        "\n",
        "print(\"Multiplication Table of 1: \", result_a)\n",
        "print(\"Multiplication Table of 2: \", result_b)\n",
        "print(\"Multiplication Table of 3: \", result_c)\n",
        "print(\"Multiplication Table of 4: \", result_d)\n",
        "print(\"Multiplication Table of 5: \", result_e)\n",
        "print(\"Multiplication Table of 6: \", result_f)\n",
        "print(\"Multiplication Table of 7: \", result_g)\n",
        "print(\"Multiplication Table of 8: \", result_h)\n",
        "print(\"Multiplication Table of 9: \", result_i)\n",
        "print(\"Multiplication Table of 10: \", result_j)"
      ],
      "metadata": {
        "colab": {
          "base_uri": "https://localhost:8080/"
        },
        "id": "fRDcsBCPwRnn",
        "outputId": "0ddc37a5-430a-40e9-9fa4-2a854296cad2"
      },
      "execution_count": 10,
      "outputs": [
        {
          "output_type": "stream",
          "name": "stdout",
          "text": [
            "Multiplication Table of 1:  [ 1  2  3  4  5  6  7  8  9 10]\n",
            "Multiplication Table of 2:  [ 2  4  6  8 10 12 14 16 18 20]\n",
            "Multiplication Table of 3:  [ 3  6  9 12 15 18 21 24 27 30]\n",
            "Multiplication Table of 4:  [ 4  8 12 16 20 24 28 32 36 40]\n",
            "Multiplication Table of 5:  [ 5 10 15 20 25 30 35 40 45 50]\n",
            "Multiplication Table of 6:  [ 6 12 18 24 30 36 42 48 54 60]\n",
            "Multiplication Table of 7:  [ 7 14 21 28 35 42 49 56 63 70]\n",
            "Multiplication Table of 8:  [ 8 16 24 32 40 48 56 64 72 80]\n",
            "Multiplication Table of 9:  [ 9 18 27 36 45 54 63 72 81 90]\n",
            "Multiplication Table of 10:  [ 10  20  30  40  50  60  70  80  90 100]\n"
          ]
        }
      ]
    },
    {
      "cell_type": "markdown",
      "source": [
        "Question 2"
      ],
      "metadata": {
        "id": "dONM_GJLx0uv"
      }
    },
    {
      "cell_type": "code",
      "source": [
        "A = np.array([1,\n",
        "              2,\n",
        "              3,\n",
        "              4,\n",
        "              5,\n",
        "              6,\n",
        "              7,\n",
        "              8,\n",
        "              9,\n",
        "              10])\n",
        "result_2a = 2 * A\n",
        "result_2b = 4 * A\n",
        "result_2c = 6 * A\n",
        "result_2d = 8 * A\n",
        "result_2e = 10 * A\n",
        "result_2f = 12 * A\n",
        "result_2g = 14 * A\n",
        "result_2h = 16 * A\n",
        "result_2i = 18 * A\n",
        "result_2j = 20 * A\n",
        "\n",
        "print(\"Multiplication Table of 1*2:\", result_2a)\n",
        "print(\"Multiplication Table of 2*2:\", result_2b)\n",
        "print(\"Multiplication Table of 3*2:\", result_2c)\n",
        "print(\"Multiplication Table of 4*2:\", result_2d)\n",
        "print(\"Multiplication Table of 5*2:\", result_2e)\n",
        "print(\"Multiplication Table of 6*2:\", result_2f)\n",
        "print(\"Multiplication Table of 7*2:\", result_2g)\n",
        "print(\"Multiplication Table of 8*2:\", result_2h)\n",
        "print(\"Multiplication Table of 9*2:\", result_2i)\n",
        "print(\"Multiplication Table of 10*2:\", result_2j)"
      ],
      "metadata": {
        "colab": {
          "base_uri": "https://localhost:8080/"
        },
        "id": "83NZORCixKvt",
        "outputId": "aa031273-b716-42d7-9132-245a9c8aa891"
      },
      "execution_count": 12,
      "outputs": [
        {
          "output_type": "stream",
          "name": "stdout",
          "text": [
            "Multiplication Table of 1*2: [ 2  4  6  8 10 12 14 16 18 20]\n",
            "Multiplication Table of 2*2: [ 4  8 12 16 20 24 28 32 36 40]\n",
            "Multiplication Table of 3*2: [ 6 12 18 24 30 36 42 48 54 60]\n",
            "Multiplication Table of 4*2: [ 8 16 24 32 40 48 56 64 72 80]\n",
            "Multiplication Table of 5*2: [ 10  20  30  40  50  60  70  80  90 100]\n",
            "Multiplication Table of 6*2: [ 12  24  36  48  60  72  84  96 108 120]\n",
            "Multiplication Table of 7*2: [ 14  28  42  56  70  84  98 112 126 140]\n",
            "Multiplication Table of 8*2: [ 16  32  48  64  80  96 112 128 144 160]\n",
            "Multiplication Table of 9*2: [ 18  36  54  72  90 108 126 144 162 180]\n",
            "Multiplication Table of 10*2: [ 20  40  60  80 100 120 140 160 180 200]\n"
          ]
        }
      ]
    },
    {
      "cell_type": "markdown",
      "source": [
        "Question 3"
      ],
      "metadata": {
        "id": "KvZEHqSuxvlR"
      }
    },
    {
      "cell_type": "code",
      "source": [
        "c = np.eye(4,4)\n",
        "print(c)"
      ],
      "metadata": {
        "colab": {
          "base_uri": "https://localhost:8080/"
        },
        "id": "sXSd4xw6xeFH",
        "outputId": "e9b2104f-c4d0-4841-d49f-3b5ea77c9e8a"
      },
      "execution_count": 13,
      "outputs": [
        {
          "output_type": "stream",
          "name": "stdout",
          "text": [
            "[[1. 0. 0. 0.]\n",
            " [0. 1. 0. 0.]\n",
            " [0. 0. 1. 0.]\n",
            " [0. 0. 0. 1.]]\n"
          ]
        }
      ]
    },
    {
      "cell_type": "markdown",
      "source": [
        "Question 4"
      ],
      "metadata": {
        "id": "v0mbNlw32TYH"
      }
    },
    {
      "cell_type": "code",
      "source": [
        "import numpy as np\n",
        "\n",
        "matrix = np.array([[1,2,3,4],\n",
        "                  [5,6,7,8],\n",
        "                  [9,10,11,12]])\n",
        "print(\"The size of the matrix is\\n\", matrix)\n",
        "\n",
        "ball = np.shape(matrix)\n",
        "print(\"The shape/dimension of the matrix is\", ball)\n",
        "\n"
      ],
      "metadata": {
        "colab": {
          "base_uri": "https://localhost:8080/"
        },
        "id": "Afn7kuIzz2bW",
        "outputId": "13d26050-1407-4e39-e906-eb9ad7a201d6"
      },
      "execution_count": 10,
      "outputs": [
        {
          "output_type": "stream",
          "name": "stdout",
          "text": [
            "The size of the matrix is\n",
            " [[ 1  2  3  4]\n",
            " [ 5  6  7  8]\n",
            " [ 9 10 11 12]]\n",
            "The shape/dimension of the matrix is (3, 4)\n"
          ]
        }
      ]
    },
    {
      "cell_type": "markdown",
      "source": [
        "Question 5"
      ],
      "metadata": {
        "id": "DkIXmofL1MDm"
      }
    },
    {
      "cell_type": "code",
      "source": [
        "import numpy as numpy\n",
        "\n",
        "arrayOne = numpy.array([[5,6,9],[21,18,27]])\n",
        "arrayTwo = numpy.array([[15,33,24],[4,7,1]])\n",
        "arrayAdd = np.add(arrayOne,arrayTwo)\n",
        "print(\"The added values of arrayOne and arrayTwo are:\\n\", arrayAdd)\n",
        "\n",
        "arraySquare = np.square(arrayAdd)\n",
        "print(\"The squared values of the added values are:\\n\", arraySquare)"
      ],
      "metadata": {
        "colab": {
          "base_uri": "https://localhost:8080/"
        },
        "id": "3iLgCBrX1OaG",
        "outputId": "cca4a1cd-2262-4a7f-ac89-6a7cda30f7c2"
      },
      "execution_count": 7,
      "outputs": [
        {
          "output_type": "stream",
          "name": "stdout",
          "text": [
            "The added values of arrayOne and arrayTwo are:\n",
            " [[20 39 33]\n",
            " [25 25 28]]\n",
            "The squared values of the added values are:\n",
            " [[ 400 1521 1089]\n",
            " [ 625  625  784]]\n"
          ]
        }
      ]
    }
  ]
}